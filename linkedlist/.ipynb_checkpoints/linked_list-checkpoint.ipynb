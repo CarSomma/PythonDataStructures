{
 "cells": [
  {
   "cell_type": "markdown",
   "id": "26beeb16-907b-451f-af61-9179e9c0b51f",
   "metadata": {},
   "source": [
    "# <a href=\"https://www.pythonforbeginners.com/lists/linked-list-in-python\">Linked List</a>\n",
    "\n",
    "1. It contains data objects which are connected by link.\n",
    "2. It consists of nodes which have a data field and a reference to the next node in the linked list"
   ]
  },
  {
   "cell_type": "markdown",
   "id": "51f1066e-1b52-4169-a3a4-1eea3106394c",
   "metadata": {},
   "source": [
    "<h3 style=\"color:Green;\">Node in a Linked List</h3>\n",
    "\n",
    "It has a data field and a pointer that links to the next Node"
   ]
  },
  {
   "cell_type": "code",
   "execution_count": 85,
   "id": "cd9a1d0e-8964-43df-b102-121068c9ed24",
   "metadata": {},
   "outputs": [],
   "source": [
    "import random"
   ]
  },
  {
   "cell_type": "code",
   "execution_count": 6,
   "id": "7fd745cf-51be-4b91-b40c-e7dda912f94a",
   "metadata": {
    "tags": []
   },
   "outputs": [],
   "source": [
    "class Node:\n",
    "    \n",
    "    def __init__(self, data_field):\n",
    "        self.data = data_field\n",
    "        self.pointer_next = None\n",
    "    \n",
    "    def __repr__(self): # repr for programmers, str for user\n",
    "        class_name = self.__class__.__name__  # type(self).__name__\n",
    "        return f\"{class_name}(data_field={self.data!r}, next={self.pointer_next})\""
   ]
  },
  {
   "cell_type": "code",
   "execution_count": 7,
   "id": "3761c5b7-9dcc-427f-a664-b1d6b206913e",
   "metadata": {},
   "outputs": [
    {
     "data": {
      "text/plain": [
       "'Node'"
      ]
     },
     "execution_count": 7,
     "metadata": {},
     "output_type": "execute_result"
    }
   ],
   "source": [
    "type(Node(\"car\")).__name__"
   ]
  },
  {
   "cell_type": "markdown",
   "id": "47f6a525-b476-44ac-9004-dfc14903ae9d",
   "metadata": {},
   "source": [
    "<h4 style=\"color:Green;\">Linked List</h4>\n",
    "\n",
    "It contains an head pointer that linked to the first node or to None if the linked list is empty "
   ]
  },
  {
   "cell_type": "code",
   "execution_count": 103,
   "id": "373e642a-f5e9-4207-b15d-e7fa66ee890d",
   "metadata": {},
   "outputs": [],
   "source": [
    "class LinkedList:\n",
    "    \n",
    "    def __init__(self):\n",
    "        self.head = None\n",
    "        \n",
    "    def __repr__(self):\n",
    "        class_name = self.__class__.__name__ # or (type(self).__name__) new learning milestone\n",
    "        return f\"{class_name}(head={self.head})\"\n",
    "    #def __str__(self):\n",
    "     #   return self.head\n",
    "    \n",
    "    @property\n",
    "    def is_head_none(self):\n",
    "        return self.head == None\n",
    "    \n",
    "    \n",
    "    def add_top_node(self, data):\n",
    "        new_node = Node(data)\n",
    "        \n",
    "        if self.is_head_none:\n",
    "            self.head = new_node\n",
    "            \n",
    "        else:\n",
    "            new_node.pointer_next = self.head\n",
    "            self.head = new_node\n",
    "    \n",
    "    def add_bottom_node(self, data):\n",
    "        new_node = Node(data)\n",
    "        \n",
    "        if self.is_head_none:\n",
    "            self.head = new_node\n",
    "            \n",
    "        else:\n",
    "            last = self.head\n",
    "            while last.pointer_next:\n",
    "                last = last.pointer_next\n",
    "            last.pointer_next = new_node\n",
    "            \n",
    "    def print_linked_list(self):\n",
    "        \n",
    "        if self.is_head_none:\n",
    "            print(\"None\")\n",
    "        else:\n",
    "            while self.head:\n",
    "                print(self.head.data, end=\" -> \")\n",
    "                self.head = self.head.pointer_next\n",
    "            print(\"None\")\n",
    "        "
   ]
  },
  {
   "cell_type": "code",
   "execution_count": 110,
   "id": "e1830d17-d484-4a38-be8d-378f72424a9a",
   "metadata": {},
   "outputs": [
    {
     "name": "stdout",
     "output_type": "stream",
     "text": [
      "LinkedList(head=Node(data_field='Porshe', next=Node(data_field='Fiat 500', next=Node(data_field='Lamborghini', next=Node(data_field='Ferrari', next=None))))) \n",
      "\n",
      "Porshe -> Fiat 500 -> Lamborghini -> Ferrari -> None\n"
     ]
    }
   ],
   "source": [
    "llist = LinkedList()\n",
    "expensive_cars = [\"Ferrari\", \"Porshe\", \"Lamborghini\", \"Fiat 500\"]\n",
    "\n",
    "while len(expensive_cars) !=0:\n",
    "    choosen_car = random.choice(expensive_cars)\n",
    "    llist.add_bottom_node(choosen_car)\n",
    "    expensive_cars.remove(choosen_car)\n",
    "print(llist,'\\n')\n",
    "\n",
    "llist.print_linked_list()    "
   ]
  },
  {
   "cell_type": "code",
   "execution_count": null,
   "id": "a0debeb2-8dab-41ab-a2be-20c2acfc248d",
   "metadata": {},
   "outputs": [],
   "source": []
  }
 ],
 "metadata": {
  "kernelspec": {
   "display_name": "Python 3 (ipykernel)",
   "language": "python",
   "name": "python3"
  },
  "language_info": {
   "codemirror_mode": {
    "name": "ipython",
    "version": 3
   },
   "file_extension": ".py",
   "mimetype": "text/x-python",
   "name": "python",
   "nbconvert_exporter": "python",
   "pygments_lexer": "ipython3",
   "version": "3.10.8"
  }
 },
 "nbformat": 4,
 "nbformat_minor": 5
}
